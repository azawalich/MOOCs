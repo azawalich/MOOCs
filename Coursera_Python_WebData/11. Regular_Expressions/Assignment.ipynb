{
 "cells": [
  {
   "cell_type": "code",
   "execution_count": 10,
   "metadata": {
    "collapsed": false
   },
   "outputs": [
    {
     "name": "stdout",
     "output_type": "stream",
     "text": [
      "366237\n"
     ]
    }
   ],
   "source": [
    "import re\n",
    "text = open(\"regExpData.txt\")\n",
    "suma=0\n",
    "for line in text:\n",
    "    liczby = re.findall('[0-9]+', line)\n",
    "    if len(liczby) > 0:\n",
    "        temp = map(int, liczby)\n",
    "        suma = suma + sum(temp)\n",
    "print(suma)   "
   ]
  }
 ],
 "metadata": {
  "kernelspec": {
   "display_name": "Python 3",
   "language": "python",
   "name": "python3"
  },
  "language_info": {
   "codemirror_mode": {
    "name": "ipython",
    "version": 3
   },
   "file_extension": ".py",
   "mimetype": "text/x-python",
   "name": "python",
   "nbconvert_exporter": "python",
   "pygments_lexer": "ipython3",
   "version": "3.5.2"
  }
 },
 "nbformat": 4,
 "nbformat_minor": 1
}
