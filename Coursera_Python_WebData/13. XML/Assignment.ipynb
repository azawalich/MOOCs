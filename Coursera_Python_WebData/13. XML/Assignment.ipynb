{
 "cells": [
  {
   "cell_type": "code",
   "execution_count": 10,
   "metadata": {
    "collapsed": false
   },
   "outputs": [
    {
     "name": "stdout",
     "output_type": "stream",
     "text": [
      "Enter location: http://python-data.dr-chuck.net/comments_313730.xml\n",
      "2498\n"
     ]
    }
   ],
   "source": [
    "#Assignment 1\n",
    "#http://python-data.dr-chuck.net/comments_313730.xml\n",
    "import urllib.request\n",
    "import xml.etree.ElementTree as ET\n",
    "\n",
    "url = input('Enter location: ')\n",
    "uh = urllib.request.urlopen(url)\n",
    "data = uh.read()\n",
    "tree = ET.fromstring(data)\n",
    "results = tree.findall('comments/comment')\n",
    "suma = 0\n",
    "for comment in results:    \n",
    "    count = comment.find('count').text\n",
    "    suma=suma+int(count)\n",
    "print(suma)"
   ]
  }
 ],
 "metadata": {
  "kernelspec": {
   "display_name": "Python 3",
   "language": "python",
   "name": "python3"
  },
  "language_info": {
   "codemirror_mode": {
    "name": "ipython",
    "version": 3
   },
   "file_extension": ".py",
   "mimetype": "text/x-python",
   "name": "python",
   "nbconvert_exporter": "python",
   "pygments_lexer": "ipython3",
   "version": "3.5.2"
  }
 },
 "nbformat": 4,
 "nbformat_minor": 1
}
