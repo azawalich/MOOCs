{
 "cells": [
  {
   "cell_type": "code",
   "execution_count": 53,
   "metadata": {
    "collapsed": false
   },
   "outputs": [
    {
     "name": "stdout",
     "output_type": "stream",
     "text": [
      "b'HTTP/1.1 200 OK\\r\\nContent-Type: text/plain\\r\\nContent-Length: 467\\r\\nConnection: close\\r\\nDate: Sat, 27 Aug 2016 21:21:29 GMT\\r\\nServer: Apache\\r\\nLast-Modified: Mon, 12 Oct 2015 14:55:29 GMT\\r\\nETag: \"1d3-521e9853a392b\"\\r\\nAccept-Ranges: bytes\\r\\nCache-Control: max-age=604800, public\\r\\nAccess-Control-Allow-Origin: *\\r\\nAccess-Control-Allow-Headers: origin, x-requested-with, content-type\\r\\nAccess-Control-Allow-Methods: GET\\r\\n\\r\\nWhy should you learn to write programs?\\n\\nWriting programs (or programming) is a very creative \\nand rewa'\n",
      "b'rding activity.  You can write programs for \\nmany reasons, ranging from making your living to solving\\na difficult data analysis problem to having fun to helping\\nsomeone else solve a problem.  This book assumes that \\neveryone needs to know how to program, and that once \\nyou know how to program you will figure out what you want \\nto do with your newfound skills.  \\n'\n"
     ]
    }
   ],
   "source": [
    "#Assignment 1\n",
    "#\n",
    "import urllib\n",
    "import xml.etree.ElementTree as ET\n",
    "\n",
    "address = raw_input('Enter location: ')\n",
    "if len(address) < 1 : break\n",
    "    url = serviceurl + urllib.urlencode({'sensor':'false', 'address': address})\n",
    "    print 'Retrieving', url\n",
    "    uh = urllib.urlopen(url)\n",
    "    data = uh.read()\n",
    "    print 'Retrieved',len(data),'characters'\n",
    "    print data\n",
    "    tree = ET.fromstring(data)\n",
    "\n",
    "\n",
    "    results = tree.findall('result')\n",
    "    lat = results[0].find('geometry').find('location').find('lat').text\n",
    "    lng = results[0].find('geometry').find('location').find('lng').text\n",
    "    location = results[0].find('formatted_address').text\n",
    "\n",
    "    print 'lat',lat,'lng',lng\n",
    "    print location"
   ]
  }
 ],
 "metadata": {
  "kernelspec": {
   "display_name": "Python 3",
   "language": "python",
   "name": "python3"
  },
  "language_info": {
   "codemirror_mode": {
    "name": "ipython",
    "version": 3
   },
   "file_extension": ".py",
   "mimetype": "text/x-python",
   "name": "python",
   "nbconvert_exporter": "python",
   "pygments_lexer": "ipython3",
   "version": "3.5.2"
  }
 },
 "nbformat": 4,
 "nbformat_minor": 1
}
