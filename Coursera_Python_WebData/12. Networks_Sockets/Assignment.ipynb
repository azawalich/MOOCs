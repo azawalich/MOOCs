{
 "cells": [
  {
   "cell_type": "code",
   "execution_count": 53,
   "metadata": {
    "collapsed": false
   },
   "outputs": [
    {
     "name": "stdout",
     "output_type": "stream",
     "text": [
      "b'HTTP/1.1 200 OK\\r\\nContent-Type: text/plain\\r\\nContent-Length: 467\\r\\nConnection: close\\r\\nDate: Sat, 27 Aug 2016 21:21:29 GMT\\r\\nServer: Apache\\r\\nLast-Modified: Mon, 12 Oct 2015 14:55:29 GMT\\r\\nETag: \"1d3-521e9853a392b\"\\r\\nAccept-Ranges: bytes\\r\\nCache-Control: max-age=604800, public\\r\\nAccess-Control-Allow-Origin: *\\r\\nAccess-Control-Allow-Headers: origin, x-requested-with, content-type\\r\\nAccess-Control-Allow-Methods: GET\\r\\n\\r\\nWhy should you learn to write programs?\\n\\nWriting programs (or programming) is a very creative \\nand rewa'\n",
      "b'rding activity.  You can write programs for \\nmany reasons, ranging from making your living to solving\\na difficult data analysis problem to having fun to helping\\nsomeone else solve a problem.  This book assumes that \\neveryone needs to know how to program, and that once \\nyou know how to program you will figure out what you want \\nto do with your newfound skills.  \\n'\n"
     ]
    }
   ],
   "source": [
    "#Assignment 1\n",
    "import socket\n",
    "\n",
    "mysock = socket.socket(socket.AF_INET, socket.SOCK_STREAM)\n",
    "mysock.connect(('www.py4inf.com', 80))\n",
    "mysock.send(b'GET http://www.pythonlearn.com/code/intro-short.txt HTTP/1.0\\n\\n')\n",
    "\n",
    "while True:\n",
    "    data = mysock.recv(512)\n",
    "    if ( len(data) < 1 ) :\n",
    "        break\n",
    "    print(data)\n",
    "\n",
    "mysock.close()"
   ]
  },
  {
   "cell_type": "code",
   "execution_count": 36,
   "metadata": {
    "collapsed": false
   },
   "outputs": [
    {
     "name": "stdout",
     "output_type": "stream",
     "text": [
      "Enter - http://python-data.dr-chuck.net/comments_313733.html\n",
      "2611\n"
     ]
    }
   ],
   "source": [
    "#Assignment 2\n",
    "#http://python-data.dr-chuck.net/comments_313733.html\n",
    "import urllib.request\n",
    "from bs4 import BeautifulSoup\n",
    "\n",
    "url = input('Enter - ')\n",
    "html = urllib.request.urlopen(url).read()\n",
    "\n",
    "soup = BeautifulSoup(html, \"lxml\")\n",
    "suma = 0\n",
    "# Retrieve all of the anchor tags\n",
    "tags = soup('span')\n",
    "for tag in tags:\n",
    "    # Look at the parts of a tag\n",
    "    suma = suma + int(tag.contents[0])\n",
    "print(suma)\n",
    "\n"
   ]
  },
  {
   "cell_type": "code",
   "execution_count": 52,
   "metadata": {
    "collapsed": false
   },
   "outputs": [
    {
     "name": "stdout",
     "output_type": "stream",
     "text": [
      "http://python-data.dr-chuck.net/known_by_Marios.html\n",
      "http://python-data.dr-chuck.net/known_by_Oluwatobiloba.html\n",
      "http://python-data.dr-chuck.net/known_by_Rhianyn.html\n",
      "http://python-data.dr-chuck.net/known_by_Kjae.html\n",
      "http://python-data.dr-chuck.net/known_by_Maaz.html\n",
      "http://python-data.dr-chuck.net/known_by_Lennox.html\n",
      "http://python-data.dr-chuck.net/known_by_Aamna.html\n"
     ]
    }
   ],
   "source": [
    "#Assignment 3\n",
    "#http://python-data.dr-chuck.net/known_by_Shuni.html\n",
    "\n",
    "import urllib.request\n",
    "from bs4 import BeautifulSoup\n",
    "saved_url = \"\"\n",
    "for i in range(1,8):\n",
    "        if(i==1):\n",
    "            url = \"http://python-data.dr-chuck.net/known_by_Shuni.html\"\n",
    "        else:\n",
    "            url = saved_url\n",
    "        html = urllib.request.urlopen(url).read()\n",
    "        soup = BeautifulSoup(html, \"lxml\")\n",
    "        # Retrieve all of the anchor tags\n",
    "        tags = soup('a')\n",
    "        linki = []\n",
    "        for tag in tags:\n",
    "            # Look at the parts of a tag\n",
    "            linki.append(tag.get('href', None))\n",
    "        saved_url = linki[17]\n",
    "        print(saved_url)"
   ]
  }
 ],
 "metadata": {
  "kernelspec": {
   "display_name": "Python 3",
   "language": "python",
   "name": "python3"
  },
  "language_info": {
   "codemirror_mode": {
    "name": "ipython",
    "version": 3
   },
   "file_extension": ".py",
   "mimetype": "text/x-python",
   "name": "python",
   "nbconvert_exporter": "python",
   "pygments_lexer": "ipython3",
   "version": "3.5.2"
  }
 },
 "nbformat": 4,
 "nbformat_minor": 1
}
